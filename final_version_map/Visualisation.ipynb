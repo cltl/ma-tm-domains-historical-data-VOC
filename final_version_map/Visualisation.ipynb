{
 "cells": [
  {
   "cell_type": "code",
   "execution_count": null,
   "metadata": {},
   "outputs": [],
   "source": [
    "import folium\n",
    "from folium import plugins\n",
    "from geopy.geocoders import Nominatim\n",
    "from geopy.exc import GeocoderTimedOut\n",
    "import os\n",
    "from lxml import etree\n",
    "import pandas as pd\n",
    "\n",
    "geolocator = Nominatim(user_agent=\"maps1\")\n"
   ]
  },
  {
   "cell_type": "markdown",
   "metadata": {},
   "source": [
    "### static variables and functions"
   ]
  },
  {
   "cell_type": "code",
   "execution_count": null,
   "metadata": {},
   "outputs": [],
   "source": [
    "#dictionary of months to numbers\n",
    "months_to_numbers = {1: [\"jan.\", \"januari\"],2: [\"febr.\", \"februari\", \"februrai\"],3: [\"maa.\", \"maart\"],4: [\"apr.\", \"april\"],\n",
    "                     5: [\"mei\"],6: [\"jun.\", \"juni\"],7: [\"jul.\", \"juli\"],8: [\"aug.\", \"augustus\"],\n",
    "                    9: [\"sept.\", \"september\"],10: [\"oct.\",\"okt.\", \"oktober\"],11: [\"nov.\", \"november\"],12: [\"dec.\", \"december\"]}"
   ]
  },
  {
   "cell_type": "code",
   "execution_count": null,
   "metadata": {},
   "outputs": [],
   "source": [
    "\n",
    "def addInfoToPoints(location, file):\n",
    "\n",
    "    date = dct_dates.get(file, None)\n",
    "    coord  = modern_loc.get(location, None)\n",
    "\n",
    "    \n",
    "    if date != None:\n",
    "        if coord != None: \n",
    "            points.append({\n",
    "                'name': location,\n",
    "                'time': date,\n",
    "                'file': file,\n",
    "                'coord': coord\n",
    "                })\n",
    "            \n",
    "\n",
    "    \n",
    "def checkfornext(df, index, column):\n",
    "    \n",
    "    try:\n",
    "        if df.iat[index, 2] == \"I-LOC\":\n",
    "            return(1)\n",
    "    except:\n",
    "        return(0)\n",
    "    return(0)"
   ]
  },
  {
   "cell_type": "markdown",
   "metadata": {},
   "source": [
    "### extracting dates and pages from xml-files"
   ]
  },
  {
   "cell_type": "code",
   "execution_count": null,
   "metadata": {},
   "outputs": [],
   "source": [
    "directory = os.getcwd()+ os.sep+ \"gm-xml\"\n",
    "\n",
    "dct_dates = {}\n",
    "\n",
    "dct_volume_page = {}\n",
    "\n",
    "for filename in os.listdir(directory):\n",
    "    if filename.endswith(\".xml\"):\n",
    "        with open(directory+os.sep+filename, \"r\", encoding = \"utf-8\") as infile:\n",
    "            text = infile.read()\n",
    "            root = etree.fromstring(text)\n",
    "            \n",
    "            #get the date\n",
    "            date = root[0][0][1][0][0].text\n",
    "            \n",
    "            #Some files have no date mentioned, and will thus be ignored\n",
    "            #other files have weird text in the date-entry, and will also be ignored\n",
    "            try:\n",
    "                words_date = date.split()\n",
    "                if words_date[2].endswith(\".\"):\n",
    "                    words_date[2] = words_date[2].strip(\".\")\n",
    "                new_year = int(words_date[2]) + 1000\n",
    "            except:\n",
    "                continue\n",
    "            \n",
    "            new_month = \"default\"\n",
    "            \n",
    "            for month in months_to_numbers.items():\n",
    "                if words_date[1] in month[1]:\n",
    "                    new_month = month[0]\n",
    "                    \n",
    "            #testing for mistakes        \n",
    "            if new_month == \"default\":\n",
    "                print(words_date[1])\n",
    "            \n",
    "            #correcting for outlier\n",
    "            if words_date[1] == \"en\":\n",
    "                words_date[0] = \"9\"\n",
    "                new_month = 3\n",
    "                new_year = 2683\n",
    "            \n",
    "            #add new dates together\n",
    "            new_date = str(new_year)+ \"-\" + str(new_month) + \"-\" +  words_date[0]\n",
    "            #put in dictionary without the extension .xml\n",
    "            dct_dates[filename[:-4]] = new_date\n",
    "            \n",
    "            #extracting missive number and page number\n",
    "            missive = root[0][0][1][0][1].text\n",
    "            page = root[0][0][3][0][0][0][0].text\n",
    "            dct_volume_page[filename[:-4]] = [missive[12:], page]\n",
    "            \n",
    "            "
   ]
  },
  {
   "cell_type": "markdown",
   "metadata": {},
   "source": [
    "### reading in the annotated locations"
   ]
  },
  {
   "cell_type": "code",
   "execution_count": null,
   "metadata": {},
   "outputs": [],
   "source": [
    "df = pd.read_csv(getcwd()+ os.sep+ \"locaties1.tsv\", encoding = \"utf-8\", sep = \"\\t\", header = None)\n",
    "df1 = df.fillna(0)\n",
    "\n",
    "df1"
   ]
  },
  {
   "cell_type": "markdown",
   "metadata": {},
   "source": [
    "### for each location, lookup the coordinates\n",
    "\n",
    "This code can take a while to run, since it makes use of a timeout per lookup to minimize the stress on the servers"
   ]
  },
  {
   "cell_type": "code",
   "execution_count": null,
   "metadata": {},
   "outputs": [],
   "source": [
    "def lookupCoord(location):\n",
    "    \n",
    "    location = geolocator.geocode(row[2])\n",
    "    longlat = [location.longitude, location.latitude]\n",
    "    \n",
    "    return(longlat)"
   ]
  },
  {
   "cell_type": "code",
   "execution_count": null,
   "metadata": {},
   "outputs": [],
   "source": [
    "modern_loc1 = {}\n",
    "\n",
    "for index, row in df1.iterrows():\n",
    "    try:\n",
    "        if row[2] != \"O\":\n",
    "            location = geolocator.geocode(row[2], timeout=20)\n",
    "            try:\n",
    "                longlat = [location.longitude, location.latitude]\n",
    "            except:\n",
    "                print(f\"failed to lookup the following location: {row[0]}; {row[2]}\")\n",
    "                if row[2] == \"0\" or row[2] == 0:\n",
    "                    break\n",
    "            modern_loc1[row[0]] =  longlat\n",
    "        else:\n",
    "            continue\n",
    "    except GeocoderTimedOut as e:\n",
    "        print(\"the following location couldn't be looked up due to a timeout: \" + str(row))\n",
    "    \n",
    "    "
   ]
  },
  {
   "cell_type": "markdown",
   "metadata": {},
   "source": [
    "### saving the coordinates"
   ]
  },
  {
   "cell_type": "code",
   "execution_count": null,
   "metadata": {},
   "outputs": [],
   "source": [
    "with open(\"locatiescoord1.tsv\", \"w\") as outfile:\n",
    "    for key, value in modern_loc1.items():\n",
    "        outfile.write(key + \"\\t\" + str(value) + \"\\n\")"
   ]
  },
  {
   "cell_type": "markdown",
   "metadata": {},
   "source": [
    "### for the found coordinates, add it to the list \"points\""
   ]
  },
  {
   "cell_type": "code",
   "execution_count": null,
   "metadata": {},
   "outputs": [],
   "source": [
    "#directory to the system output\n",
    "directory = getcwd()+ os.sep+ \"system_output\"\n",
    "\n",
    "#first default value on the map\n",
    "points = [{'name': \"Begindate\",\n",
    "                'time': \"2610-12-31\",\n",
    "                'file': [\"\"],\n",
    "                'coord': [-1000,-1000]}]    "
   ]
  },
  {
   "cell_type": "code",
   "execution_count": null,
   "metadata": {},
   "outputs": [],
   "source": [
    "dct_locations = {}\n",
    "    \n",
    "for filename in os.listdir(directory):\n",
    "    if filename.endswith(\".txt\"):\n",
    "        \n",
    "        #save filename without the \"System\" and extension\n",
    "        file = filename[7:-4]\n",
    "        \n",
    "        #read in all files\n",
    "        try:\n",
    "            df = pd.read_csv(directory+os.sep+filename, encoding = \"utf-8\", sep = \"\\t\", header = None)\n",
    "        except:\n",
    "            continue\n",
    "         \n",
    "\n",
    "        for index, row in df.iterrows():\n",
    "            \n",
    "            if row[2] == \"B-LOC\":\n",
    "                location = row[1]\n",
    "                i = index + 1\n",
    "                while checkfornext(df, i, 2) == 1:\n",
    "                    location += \" \" + df.iat[i,1]\n",
    "                    i += 1\n",
    "                 \n",
    "                #counter, because translating locations to modern names is done manually, and we'll only do most common names\n",
    "                #if location in dct_locations.keys():\n",
    "                #    dct_locations[location] += 1\n",
    "                #else:\n",
    "                #    dct_locations[location] = 1\n",
    "            \n",
    "                addInfoToPoints(location, file)\n",
    "            "
   ]
  },
  {
   "cell_type": "markdown",
   "metadata": {},
   "source": [
    "### Adding the points as features to the map\n"
   ]
  },
  {
   "cell_type": "code",
   "execution_count": null,
   "metadata": {},
   "outputs": [],
   "source": [
    "#since there is a difference between the page number in the link and the real one, I had to find those manually to correct for it\n",
    "pagedifference = [23, 13, 13, 15, 15, 15, 11, 11, 13, 11, 11, 11, 11]\n",
    "\n",
    "def findLink(file):\n",
    "        try:\n",
    "            volume = int(dct_volume_page.get(file)[0])\n",
    "            temp_page = int(dct_volume_page.get(file)[1])\n",
    "\n",
    "            page = temp_page + pagedifference[volume - 1]\n",
    "\n",
    "            link = f\"http://resources.huygens.knaw.nl/retroboeken/generalemissiven/#page={page}&accessor=toc&source={volume}&view=imagePane&size=1219\"\n",
    "            return(link)\n",
    "        except:\n",
    "            pass"
   ]
  },
  {
   "cell_type": "code",
   "execution_count": null,
   "metadata": {},
   "outputs": [],
   "source": [
    "#this code looks for entries in certain years that have the same locations show up, so they can be added together\n",
    "\n",
    "new_points = []\n",
    "\n",
    "pointer = 2\n",
    "\n",
    "\n",
    "\n",
    "for point in points[1:]:\n",
    "    found = False\n",
    "    date_modified = point.get(\"time\")[0:4]\n",
    "    times = []\n",
    "    files = []\n",
    "    names = []\n",
    "    for new_point in points[pointer:]:\n",
    "        if date_modified == new_point.get(\"time\")[0:4]:\n",
    "            if point.get(\"coord\") == new_point.get(\"coord\") and point.get(\"file\") != new_point.get(\"file\"):\n",
    "                found = True\n",
    "                times.append(new_point.get(\"time\"))\n",
    "                files.append(new_point.get(\"file\"))\n",
    "                names.append(new_point.get(\"name\"))\n",
    "                points.remove(new_point)\n",
    "                \n",
    "    if found == True:\n",
    "        times.append(point.get(\"time\"))\n",
    "        files.append(point.get(\"file\"))\n",
    "        names.append(point.get(\"name\"))\n",
    "        new_points.append({\n",
    "                'name': names,\n",
    "                'time': times,\n",
    "                'file': files,\n",
    "                'coord': point.get(\"coord\")\n",
    "                })\n",
    "        points.remove(point)\n",
    "\n",
    "    \n",
    "    pointer += 1\n",
    "    \n",
    " "
   ]
  },
  {
   "cell_type": "code",
   "execution_count": null,
   "metadata": {},
   "outputs": [],
   "source": [
    "features =[]\n",
    "\n",
    "\n",
    "#this adds the  \"singletons\" to the features\n",
    "for point in points:\n",
    "    name = list(point.values())[0]\n",
    "    coord = list(point.values())[3]\n",
    "    if coord == [4.1905396615047525, 48.3201921]:\n",
    "        continue\n",
    "    file = list(point.values())[2]\n",
    "    time = list(point.values())[1]\n",
    "    \n",
    "    link = findLink(file)\n",
    "    \n",
    "    features.append(\n",
    "    {\n",
    "        'type': 'Feature',\n",
    "        'geometry': {\n",
    "            'type': 'MultiPoint',\n",
    "            'coordinates': [coord,coord],\n",
    "        },\n",
    "        'properties': {\n",
    "            'popup': f'<a href={link} target=\"_blank\"> {name} {time} </a>',\n",
    "            'times': [time, time],\n",
    "            'icon': 'circle',\n",
    "            'iconstyle': {\n",
    "                'fillColor': 'green',\n",
    "                'fillOpacity': 0.6,\n",
    "                'stroke': 'false',\n",
    "                'radius': 13\n",
    "            },\n",
    "            'style': {'weight': 0},\n",
    "            'id': 'man'\n",
    "        }\n",
    "    })\n",
    "    \n",
    "#this adds the waypoints with more than 1 entry to the features    \n",
    "for point in new_points:\n",
    "    link = []\n",
    "    \n",
    "    for file in point.get(\"file\"):\n",
    "        link.append(findLink(file))\n",
    "    names = point.get(\"name\")\n",
    "    times = point.get(\"time\")\n",
    "    \n",
    "    i = 0\n",
    "    popup = \"\"\n",
    "    while i < len(link):\n",
    "        popup += f'<a href={link[i]} target=\"_blank\"> {names[i]} {times[i]} </a>\\n'\n",
    "        i+=1\n",
    "    \n",
    "    features.append(\n",
    "    {\n",
    "        'type': 'Feature',\n",
    "        'geometry': {\n",
    "            'type': 'MultiPoint',\n",
    "            'coordinates': [point.get(\"coord\"),point.get(\"coord\")],\n",
    "        },\n",
    "        'properties': {\n",
    "            'popup': popup,\n",
    "            'times': [point.get(\"time\")[0], point.get(\"time\")[0]],\n",
    "            'icon': 'circle',\n",
    "            'iconstyle': {\n",
    "                'fillColor': 'green',\n",
    "                'fillOpacity': 0.6,\n",
    "                'stroke': 'false',\n",
    "                'radius': 13\n",
    "            },\n",
    "            'style': {'weight': 0},\n",
    "            'id': 'man'\n",
    "        }\n",
    "    })\n",
    "\n",
    "#this makes the map    \n",
    "maps = folium.Map(location=[52.3727598, 4.8936041], zoom_start = 2, tiles = \"cartodbpositron\")\n",
    "\n",
    "plugins.TimestampedGeoJson(\n",
    "    {\n",
    "        'type': 'FeatureCollection',\n",
    "        'features': features\n",
    "    },\n",
    "    period='P1Y',\n",
    "    auto_play=False,\n",
    "    loop=False,\n",
    "    max_speed=1,\n",
    "    loop_button=True,\n",
    "    date_options='YYYY/MM/DD',\n",
    "    time_slider_drag_update=True,\n",
    "    duration='P1Y'\n",
    ").add_to(maps)"
   ]
  },
  {
   "cell_type": "code",
   "execution_count": null,
   "metadata": {},
   "outputs": [],
   "source": [
    "#show the map\n",
    "maps"
   ]
  },
  {
   "cell_type": "code",
   "execution_count": null,
   "metadata": {},
   "outputs": [],
   "source": [
    "maps.save(\"map.html\")"
   ]
  },
  {
   "cell_type": "code",
   "execution_count": null,
   "metadata": {},
   "outputs": [],
   "source": [
    "\n",
    "    "
   ]
  },
  {
   "cell_type": "code",
   "execution_count": null,
   "metadata": {},
   "outputs": [],
   "source": []
  },
  {
   "cell_type": "code",
   "execution_count": null,
   "metadata": {},
   "outputs": [],
   "source": []
  },
  {
   "cell_type": "code",
   "execution_count": null,
   "metadata": {},
   "outputs": [],
   "source": []
  },
  {
   "cell_type": "code",
   "execution_count": null,
   "metadata": {},
   "outputs": [],
   "source": []
  }
 ],
 "metadata": {
  "kernelspec": {
   "display_name": "Python 3",
   "language": "python",
   "name": "python3"
  },
  "language_info": {
   "codemirror_mode": {
    "name": "ipython",
    "version": 3
   },
   "file_extension": ".py",
   "mimetype": "text/x-python",
   "name": "python",
   "nbconvert_exporter": "python",
   "pygments_lexer": "ipython3",
   "version": "3.6.10"
  }
 },
 "nbformat": 4,
 "nbformat_minor": 2
}
